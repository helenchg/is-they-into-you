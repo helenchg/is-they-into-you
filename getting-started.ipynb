{
 "cells": [
  {
   "cell_type": "markdown",
   "metadata": {},
   "source": [
    "# Getting started with Facebook Messenger Data\n",
    "(updated Jan 2018)\n",
    "\n",
    "\n",
    "## Downloading data \n",
    "Facebook makes messenger data freely available for download from your facebook profile. \n",
    "Go to \n",
    "-> Settings \n",
    "-> Your Facebook Information\n",
    "-> Download Your Information \n",
    "\n",
    "Deselect all and select Messages. [select_data.jpg]\n",
    "\n",
    "Date Range: All of my data Format: JSON, Media Quality: Low\n",
    "\n",
    "Click create file. [create_file.jpg] \n",
    "\n",
    "The file will be available to download in 10-15 minutes.\n",
    "\n",
    "Copy folder under data "
   ]
  },
  {
   "cell_type": "markdown",
   "metadata": {},
   "source": [
    "## Reading message history from JSON File\n",
    "\n",
    "In the inbox folder, your conversations with all friends will be in the form of in subfolders JSON files. There is a folder for each contact (or group) which contains gifs, photos, and videos shared in addition to a \"messages.json\" file. "
   ]
  },
  {
   "cell_type": "code",
   "execution_count": 4,
   "metadata": {},
   "outputs": [],
   "source": [
    "import os \n",
    "import nltk \n",
    "import json\n",
    "import time\n",
    "import pandas as pd \n",
    "import numpy as np\n",
    "import datetime as dt \n",
    "from collections import Counter\n",
    "import src.data_utils as du\n",
    "import matplotlib.pyplot as plt "
   ]
  },
  {
   "cell_type": "code",
   "execution_count": 13,
   "metadata": {
    "collapsed": true
   },
   "outputs": [],
   "source": [
    "root_dir = 'data/inbox/'\n",
    "my_name = 'Judyy Shen' # your facebook name'\n",
    "foldername = \"friend1\""
   ]
  },
  {
   "cell_type": "code",
   "execution_count": 14,
   "metadata": {},
   "outputs": [],
   "source": [
    "with open(root_dir + filename + '/message.json') as f:\n",
    "            data = json.load(f)"
   ]
  },
  {
   "cell_type": "markdown",
   "metadata": {},
   "source": [
    "This json object will contain: participants, messages, title, is_still_participant, thread_type, and thread_path. \n",
    "\n",
    "Using participants, we can check how many people are in the conversation and who the conversation is with. Note that title can be changed in the a conversation and my not be the name of who you are conversing with. \n",
    "\n",
    "We are most interested in the messages in each file. "
   ]
  },
  {
   "cell_type": "code",
   "execution_count": 17,
   "metadata": {},
   "outputs": [
    {
     "name": "stdout",
     "output_type": "stream",
     "text": [
      "Your conversation with Lauren Fratamico contains 26 messages\n"
     ]
    }
   ],
   "source": [
    "# find participant\n",
    "friend_name = \"\"\n",
    "for p in data['participants']: \n",
    "    if p['name'] != my_name: \n",
    "        friend_name = p['name'] \n",
    "\n",
    "#count messages \n",
    "msg_count = len(data['messages'])\n",
    "print(\"Your conversation with {} contains {} messages\".format(friend_name, msg_count))"
   ]
  },
  {
   "cell_type": "markdown",
   "metadata": {},
   "source": [
    "## Messages\n",
    "\n",
    "Each message contains the sender_name, timestamp_ms, content, and type. \n",
    "To convert time stamp, we can simply divide the ms time by 1000 and uses gmtime() from python time library. "
   ]
  },
  {
   "cell_type": "code",
   "execution_count": 18,
   "metadata": {},
   "outputs": [
    {
     "name": "stdout",
     "output_type": "stream",
     "text": [
      "Judyy Shen said:\n",
      "Wait but look at this \n",
      "at 19-1-2019\n"
     ]
    }
   ],
   "source": [
    "example_msg = data['messages'][0]\n",
    "time_obj = time.gmtime(int(example_msg['timestamp_ms']/1000))\n",
    "year, month, day = time_obj.tm_year, time_obj.tm_mon, time_obj.tm_mday\n",
    "print(\"{} said:\\n{} \\nat {}-{}-{}\".format(example_msg['sender_name'], example_msg['content'],  day, month, year))"
   ]
  },
  {
   "cell_type": "code",
   "execution_count": 19,
   "metadata": {},
   "outputs": [
    {
     "name": "stdout",
     "output_type": "stream",
     "text": [
      "Between 1-10-2019 and 1-19-2019\n",
      "You sent 17 messages to Lauren Fratamico\n",
      "You recieved 9 messages from Lauren Fratamico\n"
     ]
    }
   ],
   "source": [
    "sent_count = 0 \n",
    "for msg in data['messages']: \n",
    "    if msg['sender_name'] == my_name: \n",
    "        sent_count += 1 \n",
    "recieved_count = len(data['messages']) - sent_count\n",
    "\n",
    "first_msg = data['messages'][-1]\n",
    "time_obj = time.gmtime(int(first_msg['timestamp_ms']/1000))\n",
    "f_year, f_month, f_day = time_obj.tm_year, time_obj.tm_mon, time_obj.tm_mday\n",
    "\n",
    "recent_msg = data['messages'][0]\n",
    "time_obj = time.gmtime(int(recent_msg['timestamp_ms']/1000))\n",
    "r_year, r_month, r_day = time_obj.tm_year, time_obj.tm_mon, time_obj.tm_mday\n",
    "\n",
    "print(\"Between {}-{}-{} and {}-{}-{}\".format(f_month, f_day, f_year, r_month, r_day, r_year))\n",
    "print(\"You sent {} messages to {}\".format(sent_count, friend_name))\n",
    "print(\"You recieved {} messages from {}\".format(recieved_count, friend_name))"
   ]
  },
  {
   "cell_type": "code",
   "execution_count": 20,
   "metadata": {
    "collapsed": true
   },
   "outputs": [],
   "source": [
    "all_msg = {} \n",
    "for msg in data['messages']: \n",
    "    time_obj = time.gmtime(int(msg['timestamp_ms']/1000))\n",
    "    year, month, day = time_obj.tm_year, time_obj.tm_mon, time_obj.tm_mday\n",
    "    date = pd.Timestamp(year=int(year), month=int(month), day=int(day))\n",
    "    if date in all_msg: \n",
    "        all_msg[date] += 1 \n",
    "    else: \n",
    "        all_msg[date] = 1"
   ]
  },
  {
   "cell_type": "code",
   "execution_count": 21,
   "metadata": {},
   "outputs": [
    {
     "data": {
      "text/plain": [
       "<matplotlib.axes._subplots.AxesSubplot at 0x1a12959ba8>"
      ]
     },
     "execution_count": 21,
     "metadata": {},
     "output_type": "execute_result"
    },
    {
     "data": {
      "image/png": "[encoded data removed]",
      "text/plain": [
       "<Figure size 432x288 with 1 Axes>"
      ]
     },
     "metadata": {},
     "output_type": "display_data"
    }
   ],
   "source": [
    "all_msg = pd.Series(all_msg, name=\"friend1\")\n",
    "all_msg.resample('W').sum().plot()"
   ]
  },
  {
   "cell_type": "markdown",
   "metadata": {},
   "source": [
    "## Top friends over time"
   ]
  },
  {
   "cell_type": "code",
   "execution_count": null,
   "metadata": {
    "collapsed": true
   },
   "outputs": [],
   "source": [
    "direct_conversations = []  \n",
    "for filename in os.listdir(root_dir):\n",
    "    if not filename.startswith('.'): \n",
    "        with open(root_dir + filename + '/message.json') as f:\n",
    "            data = json.load(f)\n",
    "            num_part = len(data['participants'])\n",
    "            if num_part == 2: \n",
    "                direct_conversations.append(data)"
   ]
  },
  {
   "cell_type": "code",
   "execution_count": null,
   "metadata": {
    "collapsed": true
   },
   "outputs": [],
   "source": [
    "# Top friends over time\n",
    "messages_cnt = Counter()\n",
    "for data in direct_conversations: \n",
    "    people = data['participants']\n",
    "    for p in people: \n",
    "        if p['name'] != my_name: \n",
    "            person = p['name']\n",
    "    num_messages = len(data['messages'])\n",
    "    messages_cnt[person] = num_messages\n",
    "    \n",
    "    #find earliest \n",
    "    timestamp = data['messages'][0]['timestamp_ms']\n",
    "    year = time.gmtime(int(timestamp/1000)).tm_year"
   ]
  },
  {
   "cell_type": "code",
   "execution_count": null,
   "metadata": {},
   "outputs": [],
   "source": [
    "messages_cnt.most_common(20)"
   ]
  },
  {
   "cell_type": "code",
   "execution_count": null,
   "metadata": {
    "collapsed": true
   },
   "outputs": [],
   "source": []
  }
 ],
 "metadata": {
  "kernelspec": {
   "display_name": "Python_torch",
   "language": "python",
   "name": "pytorch36"
  },
  "language_info": {
   "codemirror_mode": {
    "name": "ipython",
    "version": 3
   },
   "file_extension": ".py",
   "mimetype": "text/x-python",
   "name": "python",
   "nbconvert_exporter": "python",
   "pygments_lexer": "ipython3",
   "version": "3.6.5"
  }
 },
 "nbformat": 4,
 "nbformat_minor": 2
}
